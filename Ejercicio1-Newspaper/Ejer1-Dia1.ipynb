{
 "cells": [
  {
   "cell_type": "code",
   "execution_count": 1,
   "metadata": {},
   "outputs": [],
   "source": [
    "%load_ext autoreload\n",
    "%autoreload 2"
   ]
  },
  {
   "cell_type": "code",
   "execution_count": 3,
   "metadata": {},
   "outputs": [],
   "source": [
    "import ejemplo1"
   ]
  },
  {
   "cell_type": "code",
   "execution_count": 4,
   "metadata": {},
   "outputs": [],
   "source": [
    "url=\"https://www.nytimes.com/2016/08/07/education/edlife/kenneth-goldsmith-on-wasting-time-on-the-internet.html\""
   ]
  },
  {
   "cell_type": "code",
   "execution_count": 5,
   "metadata": {},
   "outputs": [
    {
     "name": "stdout",
     "output_type": "stream",
     "text": [
      "fin download\n",
      "['two years ago, kenneth goldsmith, the university of pennsylvania poet and conceptual artist, taught a creative writing course he called “wasting time on the internet.” students would do just that, probing the tedium of the internet. but thanks to in-class use of social media, the class also became a creative ferment of improvised dance, trust experiments and inquiries into the modern nature of the self and the crowd.\\n\\nthe constant experimentation changed mr. goldsmith into a self-described “radical optimist” about the internet, too. while many of his peers worry about the effects that endless tweets and bad videos have on our minds and souls, he sees a positive new culture being built. the first poet laureate of the museum of modern art, appointed in 2013, he believes we are headed into a creative renaissance, one with unprecedented speed and inclusion.\\n\\nmeanwhile, the class has evolved into a seminar on collective “time wasting” that mr. goldsmith has held in several countries, and it returns to penn this fall. his new book, named after the course, will be available this month.\\n\\nwhy write this book?\\n\\ni had cognitive dissonance. theorists say the internet is making us dumber, but something magical happened when my students wasted time together. they became more creative with each other. they say we’re less social; i think people on the web are being social all the time. they say we’re not reading; i think we’re reading all the time, just online.']\n"
     ]
    }
   ],
   "source": [
    "x=ejemplo1.body(url)"
   ]
  },
  {
   "cell_type": "code",
   "execution_count": 11,
   "metadata": {},
   "outputs": [
    {
     "name": "stdout",
     "output_type": "stream",
     "text": [
      "Counter({'the': 8, 'of': 5, 'and': 3, 'a': 2, 'creative': 2, 'internet': 2, 'class': 2, 'two': 1, 'years': 1, 'ago': 1, 'kenneth': 1, 'goldsmith': 1, 'university': 1, 'pennsylvania': 1, 'poet': 1, 'conceptual': 1, 'artist': 1, 'taught': 1, 'writing': 1, 'course': 1, 'he': 1, 'called': 1, 'wasting': 1, 'time': 1, 'on': 1, 'students': 1, 'would': 1, 'do': 1, 'just': 1, 'that': 1, 'probing': 1, 'tedium': 1, 'but': 1, 'thanks': 1, 'to': 1, 'in': 1, 'use': 1, 'social': 1, 'media': 1, 'also': 1, 'became': 1, 'ferment': 1, 'improvised': 1, 'dance': 1, 'trust': 1, 'experiments': 1, 'inquiries': 1, 'into': 1, 'modern': 1, 'nature': 1, 'self': 1, 'crowd': 1, '': 1})\n"
     ]
    }
   ],
   "source": [
    "y=ejemplo1.body1(url)"
   ]
  },
  {
   "cell_type": "code",
   "execution_count": null,
   "metadata": {},
   "outputs": [],
   "source": []
  }
 ],
 "metadata": {
  "kernelspec": {
   "display_name": "Python 3",
   "language": "python",
   "name": "python3"
  },
  "language_info": {
   "codemirror_mode": {
    "name": "ipython",
    "version": 3
   },
   "file_extension": ".py",
   "mimetype": "text/x-python",
   "name": "python",
   "nbconvert_exporter": "python",
   "pygments_lexer": "ipython3",
   "version": "3.7.4"
  }
 },
 "nbformat": 4,
 "nbformat_minor": 4
}
